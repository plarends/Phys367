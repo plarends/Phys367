{
 "cells": [
  {
   "cell_type": "markdown",
   "metadata": {},
   "source": [
    "# MESA / IPython Tutorial --"
   ]
  },
  {
   "cell_type": "markdown",
   "metadata": {},
   "source": [
    "Welcome to the IPython notebook that (hopefully) explains how to analyze the data from a MESA Model. We start by making sure that we can make plots in our notebook. You can do this by giving the command below, which will allow matlab-style plots (through the matplotlib libary). Type in this command (don't forget the %) and then press shift-enter to execute it.\n",
    "You can also do this exercise in the IPython program itself (so not the notebook). This gives you a little bit more flexibility in reading the graphs, so I almost would recommend that. If you go this route, you don't have to give the command below, but just start IPython with the command $\\texttt{mpython}$ from the command line. The rest should be all the same."
   ]
  },
  {
   "cell_type": "code",
   "execution_count": 1,
   "metadata": {
    "collapsed": false
   },
   "outputs": [
    {
     "name": "stdout",
     "output_type": "stream",
     "text": [
      "Populating the interactive namespace from numpy and matplotlib\n"
     ]
    }
   ],
   "source": [
    "%pylab inline"
   ]
  },
  {
   "cell_type": "markdown",
   "metadata": {},
   "source": [
    "Now we need to import a python script that is able to read in MESA output and analyze it (fortunately you don't have to write this script yourself). Importing a python script is easy, just type the import command (see below) and then press shift-enter to execute the command."
   ]
  },
  {
   "cell_type": "code",
   "execution_count": 2,
   "metadata": {
    "collapsed": true
   },
   "outputs": [],
   "source": [
    "import mesa as ms"
   ]
  },
  {
   "cell_type": "markdown",
   "metadata": {},
   "source": [
    "### History Data Files"
   ]
  },
  {
   "cell_type": "markdown",
   "metadata": {},
   "source": [
    "\n",
    "Now we need to read in a model. There are two different ways that data is stored by MESA. The first one is in a file that contains the <b>history</b> of all kind of global variables (with time). So, for example the surface temperature (Teff), the luminosity, the size of the convective core, some conditions in the center (density, temperature, pressure, elemental abundances, etc.) are stored there for each model. \n",
    "\n",
    "\n"
   ]
  },
  {
   "cell_type": "code",
   "execution_count": 4,
   "metadata": {
    "collapsed": false
   },
   "outputs": [
    {
     "name": "stdout",
     "output_type": "stream",
     "text": [
      "No history.datasa file found, create new one from history.data\n",
      "Closing history.data  tool ...\n"
     ]
    }
   ],
   "source": [
    "s=ms.history_data('../2.5Msun/LOGS',clean_starlog=True)"
   ]
  },
  {
   "cell_type": "markdown",
   "metadata": {},
   "source": [
    "To get a quick overview of what is going on in a model we will often make a so-called Kippenhahn plot (also called a convection plot). It shows the areas in the star where convection takes place, and (if configured correctly) also where burning takes place. To show a Kippenhahn plot give the command below, followed by shift-enter."
   ]
  },
  {
   "cell_type": "code",
   "execution_count": 5,
   "metadata": {
    "collapsed": false
   },
   "outputs": [
    {
     "name": "stdout",
     "output_type": "stream",
     "text": [
      "creating color map2 ...96%engenstyle was  twozone\n",
      "mixstyle was  twozone\n",
      "\n",
      " finished preparing color map\n",
      "plot versus model number\n",
      "[   1.    5.   10.   15.   20.   25.   30.   35.   40.   45.   50.   55.\n",
      "   60.   65.   70.   75.   80.   82.   85.   90.   95.  100.  105.  110.\n",
      "  115.  120.  125.]\n"
     ]
    },
    {
     "name": "stderr",
     "output_type": "stream",
     "text": [
      "/Users/apoelare/anaconda/lib/python2.7/site-packages/matplotlib/__init__.py:872: UserWarning: text.fontsize is deprecated and replaced with font.size; please use the latter.\n",
      "  warnings.warn(self.msg_depr % (key, alt_key))\n"
     ]
    },
    {
     "name": "stdout",
     "output_type": "stream",
     "text": [
      "[ 0.       0.00255  0.0051   0.00765  0.0102   0.01275  0.0153   0.01785\n",
      "  0.0204   0.02295  0.0255   0.02805  0.0306   0.03315  0.0357   0.03825\n",
      "  0.0408   0.04335  0.0459   0.04845  0.051    0.05355  0.0561   0.05865\n",
      "  0.0612   0.06375  0.0663   0.06885  0.0714   0.07395  0.0765   0.07905\n",
      "  0.0816   0.08415  0.0867   0.08925  0.0918   0.09435  0.0969   0.09945\n",
      "  0.102    0.10455  0.1071   0.10965  0.1122   0.11475  0.1173   0.11985\n",
      "  0.1224   0.12495  0.1275   0.13005  0.1326   0.13515  0.1377   0.14025\n",
      "  0.1428   0.14535  0.1479   0.15045  0.153    0.15555  0.1581   0.16065\n",
      "  0.1632   0.16575  0.1683   0.17085  0.1734   0.17595  0.1785   0.18105\n",
      "  0.1836   0.18615  0.1887   0.19125  0.1938   0.19635  0.1989   0.20145\n",
      "  0.204    0.20655  0.2091   0.21165  0.2142   0.21675  0.2193   0.22185\n",
      "  0.2244   0.22695  0.2295   0.23205  0.2346   0.23715  0.2397   0.24225\n",
      "  0.2448   0.24735  0.2499   0.25245  0.255    0.25755  0.2601   0.26265\n",
      "  0.2652   0.26775  0.2703   0.27285  0.2754   0.27795  0.2805   0.28305\n",
      "  0.2856   0.28815  0.2907   0.29325  0.2958   0.29835  0.3009   0.30345\n",
      "  0.306    0.30855  0.3111   0.31365  0.3162   0.31875  0.3213   0.32385\n",
      "  0.3264   0.32895  0.3315   0.33405  0.3366   0.33915  0.3417   0.34425\n",
      "  0.3468   0.34935  0.3519   0.35445  0.357    0.35955  0.3621   0.36465\n",
      "  0.3672   0.36975  0.3723   0.37485  0.3774   0.37995  0.3825   0.38505\n",
      "  0.3876   0.39015  0.3927   0.39525  0.3978   0.40035  0.4029   0.40545\n",
      "  0.408    0.41055  0.4131   0.41565  0.4182   0.42075  0.4233   0.42585\n",
      "  0.4284   0.43095  0.4335   0.43605  0.4386   0.44115  0.4437   0.44625\n",
      "  0.4488   0.45135  0.4539   0.45645  0.459    0.46155  0.4641   0.46665\n",
      "  0.4692   0.47175  0.4743   0.47685  0.4794   0.48195  0.4845   0.48705\n",
      "  0.4896   0.49215  0.4947   0.49725  0.4998   0.50235  0.5049   0.50745\n",
      "  0.51     0.51255  0.5151   0.51765  0.5202   0.52275  0.5253   0.52785\n",
      "  0.5304   0.53295  0.5355   0.53805  0.5406   0.54315  0.5457   0.54825\n",
      "  0.5508   0.55335  0.5559   0.55845  0.561    0.56355  0.5661   0.56865\n",
      "  0.5712   0.57375  0.5763   0.57885  0.5814   0.58395  0.5865   0.58905\n",
      "  0.5916   0.59415  0.5967   0.59925  0.6018   0.60435  0.6069   0.60945\n",
      "  0.612    0.61455  0.6171   0.61965  0.6222   0.62475  0.6273   0.62985\n",
      "  0.6324   0.63495  0.6375   0.64005  0.6426   0.64515  0.6477   0.65025\n",
      "  0.6528   0.65535  0.6579   0.66045  0.663    0.66555  0.6681   0.67065\n",
      "  0.6732   0.67575  0.6783   0.68085  0.6834   0.68595  0.6885   0.69105\n",
      "  0.6936   0.69615  0.6987   0.70125  0.7038   0.70635  0.7089   0.71145\n",
      "  0.714    0.71655  0.7191   0.72165  0.7242   0.72675  0.7293   0.73185\n",
      "  0.7344   0.73695  0.7395   0.74205  0.7446   0.74715  0.7497   0.75225\n",
      "  0.7548   0.75735  0.7599   0.76245  0.765    0.76755  0.7701   0.77265\n",
      "  0.7752   0.77775  0.7803   0.78285  0.7854   0.78795  0.7905   0.79305\n",
      "  0.7956   0.79815  0.8007   0.80325  0.8058   0.80835  0.8109   0.81345\n",
      "  0.816    0.81855  0.8211   0.82365  0.8262   0.82875  0.8313   0.83385\n",
      "  0.8364   0.83895  0.8415   0.84405  0.8466   0.84915  0.8517   0.85425\n",
      "  0.8568   0.85935  0.8619   0.86445  0.867    0.86955  0.8721   0.87465\n",
      "  0.8772   0.87975  0.8823   0.88485  0.8874   0.88995  0.8925   0.89505\n",
      "  0.8976   0.90015  0.9027   0.90525  0.9078   0.91035  0.9129   0.91545\n",
      "  0.918    0.92055  0.9231   0.92565  0.9282   0.93075  0.9333   0.93585\n",
      "  0.9384   0.94095  0.9435   0.94605  0.9486   0.95115  0.9537   0.95625\n",
      "  0.9588   0.96135  0.9639   0.96645  0.969    0.97155  0.9741   0.97665\n",
      "  0.9792   0.98175  0.9843   0.98685  0.9894   0.99195  0.9945   0.99705\n",
      "  0.9996   1.00215  1.0047   1.00725  1.0098   1.01235  1.0149   1.01745\n",
      "  1.02     1.02255  1.0251   1.02765  1.0302   1.03275  1.0353   1.03785\n",
      "  1.0404   1.04295  1.0455   1.04805  1.0506   1.05315  1.0557   1.05825\n",
      "  1.0608   1.06335  1.0659   1.06845  1.071    1.07355  1.0761   1.07865\n",
      "  1.0812   1.08375  1.0863   1.08885  1.0914   1.09395  1.0965   1.09905\n",
      "  1.1016   1.10415  1.1067   1.10925  1.1118   1.11435  1.1169   1.11945\n",
      "  1.122    1.12455  1.1271   1.12965  1.1322   1.13475  1.1373   1.13985\n",
      "  1.1424   1.14495  1.1475   1.15005  1.1526   1.15515  1.1577   1.16025\n",
      "  1.1628   1.16535  1.1679   1.17045  1.173    1.17555  1.1781   1.18065\n",
      "  1.1832   1.18575  1.1883   1.19085  1.1934   1.19595  1.1985   1.20105\n",
      "  1.2036   1.20615  1.2087   1.21125  1.2138   1.21635  1.2189   1.22145\n",
      "  1.224    1.22655  1.2291   1.23165  1.2342   1.23675  1.2393   1.24185\n",
      "  1.2444   1.24695  1.2495   1.25205  1.2546   1.25715  1.2597   1.26225\n",
      "  1.2648   1.26735  1.2699   1.27245  1.275    1.27755  1.2801   1.28265\n",
      "  1.2852   1.28775  1.2903   1.29285  1.2954   1.29795  1.3005   1.30305\n",
      "  1.3056   1.30815  1.3107   1.31325  1.3158   1.31835  1.3209   1.32345\n",
      "  1.326    1.32855  1.3311   1.33365  1.3362   1.33875  1.3413   1.34385\n",
      "  1.3464   1.34895  1.3515   1.35405  1.3566   1.35915  1.3617   1.36425\n",
      "  1.3668   1.36935  1.3719   1.37445  1.377    1.37955  1.3821   1.38465\n",
      "  1.3872   1.38975  1.3923   1.39485  1.3974   1.39995  1.4025   1.40505\n",
      "  1.4076   1.41015  1.4127   1.41525  1.4178   1.42035  1.4229   1.42545\n",
      "  1.428    1.43055  1.4331   1.43565  1.4382   1.44075  1.4433   1.44585\n",
      "  1.4484   1.45095  1.4535   1.45605  1.4586   1.46115  1.4637   1.46625\n",
      "  1.4688   1.47135  1.4739   1.47645  1.479    1.48155  1.4841   1.48665\n",
      "  1.4892   1.49175  1.4943   1.49685  1.4994   1.50195  1.5045   1.50705\n",
      "  1.5096   1.51215  1.5147   1.51725  1.5198   1.52235  1.5249   1.52745\n",
      "  1.53     1.53255  1.5351   1.53765  1.5402   1.54275  1.5453   1.54785\n",
      "  1.5504   1.55295  1.5555   1.55805  1.5606   1.56315  1.5657   1.56825\n",
      "  1.5708   1.57335  1.5759   1.57845  1.581    1.58355  1.5861   1.58865\n",
      "  1.5912   1.59375  1.5963   1.59885  1.6014   1.60395  1.6065   1.60905\n",
      "  1.6116   1.61415  1.6167   1.61925  1.6218   1.62435  1.6269   1.62945\n",
      "  1.632    1.63455  1.6371   1.63965  1.6422   1.64475  1.6473   1.64985\n",
      "  1.6524   1.65495  1.6575   1.66005  1.6626   1.66515  1.6677   1.67025\n",
      "  1.6728   1.67535  1.6779   1.68045  1.683    1.68555  1.6881   1.69065\n",
      "  1.6932   1.69575  1.6983   1.70085  1.7034   1.70595  1.7085   1.71105\n",
      "  1.7136   1.71615  1.7187   1.72125  1.7238   1.72635  1.7289   1.73145\n",
      "  1.734    1.73655  1.7391   1.74165  1.7442   1.74675  1.7493   1.75185\n",
      "  1.7544   1.75695  1.7595   1.76205  1.7646   1.76715  1.7697   1.77225\n",
      "  1.7748   1.77735  1.7799   1.78245  1.785    1.78755  1.7901   1.79265\n",
      "  1.7952   1.79775  1.8003   1.80285  1.8054   1.80795  1.8105   1.81305\n",
      "  1.8156   1.81815  1.8207   1.82325  1.8258   1.82835  1.8309   1.83345\n",
      "  1.836    1.83855  1.8411   1.84365  1.8462   1.84875  1.8513   1.85385\n",
      "  1.8564   1.85895  1.8615   1.86405  1.8666   1.86915  1.8717   1.87425\n",
      "  1.8768   1.87935  1.8819   1.88445  1.887    1.88955  1.8921   1.89465\n",
      "  1.8972   1.89975  1.9023   1.90485  1.9074   1.90995  1.9125   1.91505\n",
      "  1.9176   1.92015  1.9227   1.92525  1.9278   1.93035  1.9329   1.93545\n",
      "  1.938    1.94055  1.9431   1.94565  1.9482   1.95075  1.9533   1.95585\n",
      "  1.9584   1.96095  1.9635   1.96605  1.9686   1.97115  1.9737   1.97625\n",
      "  1.9788   1.98135  1.9839   1.98645  1.989    1.99155  1.9941   1.99665\n",
      "  1.9992   2.00175  2.0043   2.00685  2.0094   2.01195  2.0145   2.01705\n",
      "  2.0196   2.02215  2.0247   2.02725  2.0298   2.03235  2.0349   2.03745\n",
      "  2.04     2.04255  2.0451   2.04765  2.0502   2.05275  2.0553   2.05785\n",
      "  2.0604   2.06295  2.0655   2.06805  2.0706   2.07315  2.0757   2.07825\n",
      "  2.0808   2.08335  2.0859   2.08845  2.091    2.09355  2.0961   2.09865\n",
      "  2.1012   2.10375  2.1063   2.10885  2.1114   2.11395  2.1165   2.11905\n",
      "  2.1216   2.12415  2.1267   2.12925  2.1318   2.13435  2.1369   2.13945\n",
      "  2.142    2.14455  2.1471   2.14965  2.1522   2.15475  2.1573   2.15985\n",
      "  2.1624   2.16495  2.1675   2.17005  2.1726   2.17515  2.1777   2.18025\n",
      "  2.1828   2.18535  2.1879   2.19045  2.193    2.19555  2.1981   2.20065\n",
      "  2.2032   2.20575  2.2083   2.21085  2.2134   2.21595  2.2185   2.22105\n",
      "  2.2236   2.22615  2.2287   2.23125  2.2338   2.23635  2.2389   2.24145\n",
      "  2.244    2.24655  2.2491   2.25165  2.2542   2.25675  2.2593   2.26185\n",
      "  2.2644   2.26695  2.2695   2.27205  2.2746   2.27715  2.2797   2.28225\n",
      "  2.2848   2.28735  2.2899   2.29245  2.295    2.29755  2.3001   2.30265\n",
      "  2.3052   2.30775  2.3103   2.31285  2.3154   2.31795  2.3205   2.32305\n",
      "  2.3256   2.32815  2.3307   2.33325  2.3358   2.33835  2.3409   2.34345\n",
      "  2.346    2.34855  2.3511   2.35365  2.3562   2.35875  2.3613   2.36385\n",
      "  2.3664   2.36895  2.3715   2.37405  2.3766   2.37915  2.3817   2.38425\n",
      "  2.3868   2.38935  2.3919   2.39445  2.397    2.39955  2.4021   2.40465\n",
      "  2.4072   2.40975  2.4123   2.41485  2.4174   2.41995  2.4225   2.42505\n",
      "  2.4276   2.43015  2.4327   2.43525  2.4378   2.44035  2.4429   2.44545\n",
      "  2.448    2.45055  2.4531   2.45565  2.4582   2.46075  2.4633   2.46585\n",
      "  2.4684   2.47095  2.4735   2.47605  2.4786   2.48115  2.4837   2.48625\n",
      "  2.4888   2.49135  2.4939   2.49645  2.499    2.50155  2.5041   2.50665\n",
      "  2.5092   2.51175  2.5143   2.51685  2.5194   2.52195  2.5245   2.52705\n",
      "  2.5296   2.53215  2.5347   2.53725  2.5398   2.54235  2.5449   2.54745]\n",
      "[[ 0.  0.  0. ...,  0.  0.  0.]\n",
      " [ 1.  1.  1. ...,  1.  1.  1.]\n",
      " [ 1.  1.  1. ...,  1.  1.  1.]\n",
      " ..., \n",
      " [ 0.  0.  0. ...,  0.  0.  0.]\n",
      " [ 0.  0.  0. ...,  0.  0.  0.]\n",
      " [ 0.  0.  0. ...,  0.  0.  0.]]\n",
      "plotting contours\n",
      "[[ 10.  10.  10. ...,  30.  30.  30.]\n",
      " [ 10.  10.  10. ...,  30.  30.  30.]\n",
      " [ 10.  10.  10. ...,  30.  30.  30.]\n",
      " ..., \n",
      " [  0.   0.   0. ...,   0.   0.   0.]\n",
      " [  0.   0.   0. ...,   0.   0.   0.]\n",
      " [  0.   0.   0. ...,   0.   0.   0.]]\n",
      "plotting patches\n",
      "plotting abund boundaries\n"
     ]
    },
    {
     "ename": "KeyError",
     "evalue": "'h1_boundary_mass'",
     "output_type": "error",
     "traceback": [
      "\u001b[0;31m---------------------------------------------------------------------------\u001b[0m",
      "\u001b[0;31mKeyError\u001b[0m                                  Traceback (most recent call last)",
      "\u001b[0;32m<ipython-input-5-86e589b02b4f>\u001b[0m in \u001b[0;36m<module>\u001b[0;34m()\u001b[0m\n\u001b[0;32m----> 1\u001b[0;31m \u001b[0ms\u001b[0m\u001b[0;34m.\u001b[0m\u001b[0mkip_cont\u001b[0m\u001b[0;34m(\u001b[0m\u001b[0;34m)\u001b[0m\u001b[0;34m\u001b[0m\u001b[0m\n\u001b[0m",
      "\u001b[0;32m/Users/apoelare/Research/codes/python/mesa.pyc\u001b[0m in \u001b[0;36mkip_cont\u001b[0;34m(self, ifig, modstart, modstop, outfile, xlims, ylims, xres, yres, ixaxis, mix_zones, burn_zones, plot_radius, engenPlus, engenMinus, landscape_plot, rad_lines, profiles, showfig, outlines)\u001b[0m\n\u001b[1;32m   1195\u001b[0m \u001b[0;34m\u001b[0m\u001b[0m\n\u001b[1;32m   1196\u001b[0m         \u001b[0;32mprint\u001b[0m \u001b[0;34m'plotting abund boundaries'\u001b[0m\u001b[0;34m\u001b[0m\u001b[0m\n\u001b[0;32m-> 1197\u001b[0;31m         \u001b[0max\u001b[0m\u001b[0;34m.\u001b[0m\u001b[0mplot\u001b[0m\u001b[0;34m(\u001b[0m\u001b[0mxxx\u001b[0m\u001b[0;34m,\u001b[0m\u001b[0mself\u001b[0m\u001b[0;34m.\u001b[0m\u001b[0mget\u001b[0m\u001b[0;34m(\u001b[0m\u001b[0;34m'h1_boundary_mass'\u001b[0m\u001b[0;34m)\u001b[0m\u001b[0;34m[\u001b[0m\u001b[0mmodstart\u001b[0m\u001b[0;34m:\u001b[0m\u001b[0mmodstop\u001b[0m\u001b[0;34m]\u001b[0m\u001b[0;34m,\u001b[0m\u001b[0mlabel\u001b[0m\u001b[0;34m=\u001b[0m\u001b[0;34m'H boundary'\u001b[0m\u001b[0;34m,\u001b[0m\u001b[0mlinestyle\u001b[0m\u001b[0;34m=\u001b[0m\u001b[0;34m'-'\u001b[0m\u001b[0;34m)\u001b[0m\u001b[0;34m\u001b[0m\u001b[0m\n\u001b[0m\u001b[1;32m   1198\u001b[0m         \u001b[0max\u001b[0m\u001b[0;34m.\u001b[0m\u001b[0mplot\u001b[0m\u001b[0;34m(\u001b[0m\u001b[0mxxx\u001b[0m\u001b[0;34m,\u001b[0m\u001b[0mself\u001b[0m\u001b[0;34m.\u001b[0m\u001b[0mget\u001b[0m\u001b[0;34m(\u001b[0m\u001b[0;34m'he4_boundary_mass'\u001b[0m\u001b[0;34m)\u001b[0m\u001b[0;34m[\u001b[0m\u001b[0mmodstart\u001b[0m\u001b[0;34m:\u001b[0m\u001b[0mmodstop\u001b[0m\u001b[0;34m]\u001b[0m\u001b[0;34m,\u001b[0m\u001b[0mlabel\u001b[0m\u001b[0;34m=\u001b[0m\u001b[0;34m'He boundary'\u001b[0m\u001b[0;34m,\u001b[0m\u001b[0mlinestyle\u001b[0m\u001b[0;34m=\u001b[0m\u001b[0;34m'--'\u001b[0m\u001b[0;34m)\u001b[0m\u001b[0;34m\u001b[0m\u001b[0m\n\u001b[1;32m   1199\u001b[0m         \u001b[0max\u001b[0m\u001b[0;34m.\u001b[0m\u001b[0mplot\u001b[0m\u001b[0;34m(\u001b[0m\u001b[0mxxx\u001b[0m\u001b[0;34m,\u001b[0m\u001b[0mself\u001b[0m\u001b[0;34m.\u001b[0m\u001b[0mget\u001b[0m\u001b[0;34m(\u001b[0m\u001b[0;34m'c12_boundary_mass'\u001b[0m\u001b[0;34m)\u001b[0m\u001b[0;34m[\u001b[0m\u001b[0mmodstart\u001b[0m\u001b[0;34m:\u001b[0m\u001b[0mmodstop\u001b[0m\u001b[0;34m]\u001b[0m\u001b[0;34m,\u001b[0m\u001b[0mlabel\u001b[0m\u001b[0;34m=\u001b[0m\u001b[0;34m'C boundary'\u001b[0m\u001b[0;34m,\u001b[0m\u001b[0mlinestyle\u001b[0m\u001b[0;34m=\u001b[0m\u001b[0;34m'-.'\u001b[0m\u001b[0;34m)\u001b[0m\u001b[0;34m\u001b[0m\u001b[0m\n",
      "\u001b[0;32m/Users/apoelare/Research/codes/python/mesa.pyc\u001b[0m in \u001b[0;36mget\u001b[0;34m(self, str_name)\u001b[0m\n\u001b[1;32m    377\u001b[0m         self with the name of your instance'''\n\u001b[1;32m    378\u001b[0m \u001b[0;34m\u001b[0m\u001b[0m\n\u001b[0;32m--> 379\u001b[0;31m         \u001b[0mcolumn_array\u001b[0m \u001b[0;34m=\u001b[0m \u001b[0mself\u001b[0m\u001b[0;34m.\u001b[0m\u001b[0mdata\u001b[0m\u001b[0;34m[\u001b[0m\u001b[0;34m:\u001b[0m\u001b[0;34m,\u001b[0m\u001b[0mself\u001b[0m\u001b[0;34m.\u001b[0m\u001b[0mcols\u001b[0m\u001b[0;34m[\u001b[0m\u001b[0mstr_name\u001b[0m\u001b[0;34m]\u001b[0m\u001b[0;34m-\u001b[0m\u001b[0;36m1\u001b[0m\u001b[0;34m]\u001b[0m\u001b[0;34m.\u001b[0m\u001b[0mastype\u001b[0m\u001b[0;34m(\u001b[0m\u001b[0;34m'float'\u001b[0m\u001b[0;34m)\u001b[0m\u001b[0;34m\u001b[0m\u001b[0m\n\u001b[0m\u001b[1;32m    380\u001b[0m         \u001b[0;32mreturn\u001b[0m \u001b[0mcolumn_array\u001b[0m\u001b[0;34m\u001b[0m\u001b[0m\n\u001b[1;32m    381\u001b[0m \u001b[0;34m\u001b[0m\u001b[0m\n",
      "\u001b[0;31mKeyError\u001b[0m: 'h1_boundary_mass'"
     ]
    },
    {
     "data": {
      "image/png": "[encoded data removed]",
      "text/plain": [
       "<matplotlib.figure.Figure at 0x109d9bcd0>"
      ]
     },
     "metadata": {},
     "output_type": "display_data"
    }
   ],
   "source": [
    "s.kip_cont()"
   ]
  },
  {
   "cell_type": "markdown",
   "metadata": {},
   "source": [
    "As you can see, the model needed only 120 timestep to complete the main sequence. The grey shaded areas are zones with convection, the blue shaded areas are zones with radiative energy transport. "
   ]
  },
  {
   "cell_type": "markdown",
   "metadata": {},
   "source": [
    "### MESA Profile Files"
   ]
  },
  {
   "cell_type": "markdown",
   "metadata": {},
   "source": [
    "The second type of data files that MESA produces are Profile files. As the name already says, they contain a profile of a star at a certain moment in time. For every gridpoint many different variables are saved and are accesible for analysis. To read in a profile file give the following command followed by shift-enter. (The 1 at the end of the command indicates that we will read the first profile in from the data files... there are many more -> just have a look in the profiles.index file in the LOGS directory)."
   ]
  },
  {
   "cell_type": "code",
   "execution_count": 7,
   "metadata": {
    "collapsed": false
   },
   "outputs": [
    {
     "name": "stdout",
     "output_type": "stream",
     "text": [
      "5 in profiles.index file ...\n",
      "Found and load nearest profile for cycle 1\n",
      "reading ../2.5msun/LOGS/profile1.data ...\n"
     ]
    }
   ],
   "source": [
    "a=ms.mesa_profile('../2.5msun/LOGS',1)"
   ]
  },
  {
   "cell_type": "markdown",
   "metadata": {},
   "source": [
    "To see what is stored in the profile data give the following command:"
   ]
  },
  {
   "cell_type": "code",
   "execution_count": 8,
   "metadata": {
    "collapsed": false
   },
   "outputs": [
    {
     "data": {
      "text/plain": [
       "{'abar': 37,\n",
       " 'burn_ar': 87,\n",
       " 'burn_c': 79,\n",
       " 'burn_ca': 88,\n",
       " 'burn_cr': 90,\n",
       " 'burn_fe': 91,\n",
       " 'burn_mg': 84,\n",
       " 'burn_n': 80,\n",
       " 'burn_na': 83,\n",
       " 'burn_ne': 82,\n",
       " 'burn_o': 81,\n",
       " 'burn_s': 86,\n",
       " 'burn_si': 85,\n",
       " 'burn_ti': 89,\n",
       " 'c12': 71,\n",
       " 'c12_c12': 92,\n",
       " 'c12_o16': 93,\n",
       " 'cno': 77,\n",
       " 'conv_vel_div_csound': 51,\n",
       " 'csound': 15,\n",
       " 'd_lnepsnuc_dlnT': 43,\n",
       " 'd_lnepsnuc_dlnd': 42,\n",
       " 'dm': 19,\n",
       " 'dq_ratio': 21,\n",
       " 'entropy': 13,\n",
       " 'eps_grav': 7,\n",
       " 'eps_nuc': 40,\n",
       " 'eta': 17,\n",
       " 'free_e': 33,\n",
       " 'gradT': 60,\n",
       " 'gradT_sub_grada': 47,\n",
       " 'grada': 32,\n",
       " 'gradr': 61,\n",
       " 'h1': 68,\n",
       " 'he3': 69,\n",
       " 'he4': 70,\n",
       " 'logP': 4,\n",
       " 'logPgas': 31,\n",
       " 'logR': 5,\n",
       " 'logRho': 3,\n",
       " 'logT': 2,\n",
       " 'log_D_conv': 54,\n",
       " 'log_D_minimum': 59,\n",
       " 'log_D_mix': 49,\n",
       " 'log_D_ovr': 57,\n",
       " 'log_D_semi': 56,\n",
       " 'log_D_soft': 55,\n",
       " 'log_D_thrm': 58,\n",
       " 'log_abs_eps_grav_dm_div_L': 8,\n",
       " 'log_abs_eps_nuc': 41,\n",
       " 'log_conv_vel': 50,\n",
       " 'log_mlt_D_mix': 52,\n",
       " 'log_mlt_Gamma': 48,\n",
       " 'log_opacity': 39,\n",
       " 'log_q': 23,\n",
       " 'logdq': 20,\n",
       " 'logtau': 28,\n",
       " 'logxm': 64,\n",
       " 'logxq': 63,\n",
       " 'luminosity': 6,\n",
       " 'mass': 62,\n",
       " 'mg24': 75,\n",
       " 'mixing_type': 14,\n",
       " 'mlt_mixing_length': 45,\n",
       " 'mlt_mixing_type': 46,\n",
       " 'mu': 18,\n",
       " 'n14': 72,\n",
       " 'ne20': 74,\n",
       " 'net_energy': 10,\n",
       " 'non_nuc_neu': 44,\n",
       " 'o16': 73,\n",
       " 'o16_o16': 94,\n",
       " 'other': 97,\n",
       " 'pgas_div_ptotal': 30,\n",
       " 'photo': 96,\n",
       " 'pnhe4': 95,\n",
       " 'pp': 76,\n",
       " 'pressure': 29,\n",
       " 'pressure_scale_height': 53,\n",
       " 'q': 22,\n",
       " 'radius': 24,\n",
       " 'rmid': 25,\n",
       " 'signed_log_eps_grav': 9,\n",
       " 'signed_log_power': 11,\n",
       " 'tau': 27,\n",
       " 'temperature': 26,\n",
       " 'tri_alfa': 78,\n",
       " 'v_div_cs': 16,\n",
       " 'velocity': 12,\n",
       " 'x': 65,\n",
       " 'x_mass_fraction_H': 34,\n",
       " 'y': 66,\n",
       " 'y_mass_fraction_He': 35,\n",
       " 'ye': 38,\n",
       " 'z': 67,\n",
       " 'z_mass_fraction_metals': 36,\n",
       " 'zone': 1}"
      ]
     },
     "execution_count": 8,
     "metadata": {},
     "output_type": "execute_result"
    }
   ],
   "source": [
    "a.cols"
   ]
  },
  {
   "cell_type": "markdown",
   "metadata": {},
   "source": [
    "For this tutorial we are interested in the structural profiles inside the star. All of these can be found in the profiles file. Once you have read in this file, you have access to all the data."
   ]
  },
  {
   "cell_type": "code",
   "execution_count": 10,
   "metadata": {
    "collapsed": false
   },
   "outputs": [],
   "source": [
    "pressure=a.get('pressure')\n",
    "mass=a.get('mass')\n",
    "radius=a.get('radius')\n",
    "temperature=a.get('temperature')\n",
    "luminosity=a.get('luminosity')\n",
    "eps=a.get('eps_nuc')\n",
    "density=a.get('logRho')\n",
    "kappa=a.get('log_opacity')"
   ]
  },
  {
   "cell_type": "markdown",
   "metadata": {},
   "source": [
    "Now we are ready to plot the desired profiles of the star. Let's first try the radius against the pressure. The result is shown below."
   ]
  },
  {
   "cell_type": "code",
   "execution_count": 11,
   "metadata": {
    "collapsed": false
   },
   "outputs": [
    {
     "data": {
      "text/plain": [
       "[<matplotlib.lines.Line2D at 0x10cbe9390>]"
      ]
     },
     "execution_count": 11,
     "metadata": {},
     "output_type": "execute_result"
    },
    {
     "data": {
      "image/png": "[encoded data removed]",
      "text/plain": [
       "<matplotlib.figure.Figure at 0x10c584250>"
      ]
     },
     "metadata": {},
     "output_type": "display_data"
    }
   ],
   "source": [
    "plot(radius,pressure)"
   ]
  },
  {
   "cell_type": "markdown",
   "metadata": {},
   "source": [
    "As you can see, this is a very steep pressure profile, especially in the inner 0.5 rsun. It might make more sense to plot the pressure against the mass."
   ]
  },
  {
   "cell_type": "code",
   "execution_count": 12,
   "metadata": {
    "collapsed": false
   },
   "outputs": [
    {
     "data": {
      "text/plain": [
       "[<matplotlib.lines.Line2D at 0x10d0c7250>]"
      ]
     },
     "execution_count": 12,
     "metadata": {},
     "output_type": "execute_result"
    },
    {
     "data": {
      "image/png": "[encoded data removed]",
      "text/plain": [
       "<matplotlib.figure.Figure at 0x10cb5abd0>"
      ]
     },
     "metadata": {},
     "output_type": "display_data"
    }
   ],
   "source": [
    "plot(mass, pressure)"
   ]
  },
  {
   "cell_type": "markdown",
   "metadata": {},
   "source": [
    "That looks much better, and looks very much like a power law. Let's see whether it is, by making a semi-log plot."
   ]
  },
  {
   "cell_type": "code",
   "execution_count": 14,
   "metadata": {
    "collapsed": false
   },
   "outputs": [
    {
     "data": {
      "text/plain": [
       "[<matplotlib.lines.Line2D at 0x10d398ed0>]"
      ]
     },
     "execution_count": 14,
     "metadata": {},
     "output_type": "execute_result"
    },
    {
     "data": {
      "image/png": "[encoded data removed]",
      "text/plain": [
       "<matplotlib.figure.Figure at 0x10d21f610>"
      ]
     },
     "metadata": {},
     "output_type": "display_data"
    }
   ],
   "source": [
    "plot(mass,log10(pressure))"
   ]
  },
  {
   "cell_type": "markdown",
   "metadata": {},
   "source": [
    "As you can see, most of the star behaves like $P \\sim M^{\\gamma}$, except for the outer layers."
   ]
  },
  {
   "cell_type": "code",
   "execution_count": null,
   "metadata": {
    "collapsed": true
   },
   "outputs": [],
   "source": []
  }
 ],
 "metadata": {
  "kernelspec": {
   "display_name": "Python 2",
   "language": "python",
   "name": "python2"
  },
  "language_info": {
   "codemirror_mode": {
    "name": "ipython",
    "version": 2
   },
   "file_extension": ".py",
   "mimetype": "text/x-python",
   "name": "python",
   "nbconvert_exporter": "python",
   "pygments_lexer": "ipython2",
   "version": "2.7.12"
  }
 },
 "nbformat": 4,
 "nbformat_minor": 0
}
