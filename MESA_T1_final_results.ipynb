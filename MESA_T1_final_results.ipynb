{
 "metadata": {
  "name": "",
  "signature": "sha256:b35944675e5f87437035fe719d49154735c77b65d6bfe2e90a9376de62f2fead"
 },
 "nbformat": 3,
 "nbformat_minor": 0,
 "worksheets": [
  {
   "cells": [
    {
     "cell_type": "heading",
     "level": 1,
     "metadata": {},
     "source": [
      "MESA Tutorial 1 - Results"
     ]
    },
    {
     "cell_type": "code",
     "collapsed": false,
     "input": [
      "%pylab inline"
     ],
     "language": "python",
     "metadata": {},
     "outputs": [
      {
       "output_type": "stream",
       "stream": "stdout",
       "text": [
        "Populating the interactive namespace from numpy and matplotlib\n"
       ]
      }
     ],
     "prompt_number": 1
    },
    {
     "cell_type": "code",
     "collapsed": false,
     "input": [
      "import numpy as np\n",
      "from scipy import stats"
     ],
     "language": "python",
     "metadata": {},
     "outputs": [],
     "prompt_number": 2
    },
    {
     "cell_type": "markdown",
     "metadata": {},
     "source": [
      "Reading in the data. I converted the google doc spreadsheet into a csv file, which I am able to read in relatively easily in Python."
     ]
    },
    {
     "cell_type": "code",
     "collapsed": false,
     "input": [
      "data=np.genfromtxt('MESA_T1_final_data.csv',unpack=True, delimiter=',', skip_header=2)"
     ],
     "language": "python",
     "metadata": {},
     "outputs": [],
     "prompt_number": 3
    },
    {
     "cell_type": "markdown",
     "metadata": {},
     "source": [
      "All the data is now stored in the array 'data'. To get it out, I just read out all the columns and assign them the proper name."
     ]
    },
    {
     "cell_type": "code",
     "collapsed": false,
     "input": [
      "mass=data[1]\n",
      "logm=data[2]\n",
      "logl=data[3]\n",
      "logT=data[4]\n",
      "age=data[5]\n",
      "logage=data[6]\n",
      "bot_conv=data[7]\n",
      "top_conv=data[8]"
     ],
     "language": "python",
     "metadata": {},
     "outputs": [],
     "prompt_number": 4
    },
    {
     "cell_type": "heading",
     "level": 2,
     "metadata": {},
     "source": [
      "Mass Luminosity Relation"
     ]
    },
    {
     "cell_type": "markdown",
     "metadata": {},
     "source": [
      "Let's make a plot of mass versus luminosity. According to the textbook the relationship should be $L \\propto M^3$."
     ]
    },
    {
     "cell_type": "code",
     "collapsed": true,
     "input": [
      "plt.plot(logm,logl,'b+')\n",
      "plt.xlabel('log $M/M_{\\odot}$')\n",
      "plt.ylabel('log $L/L_\\odot$')\n",
      "slope, intercept, r_value, p_value, std_err = stats.linregress(logm,logl)\n",
      "x=np.linspace(-1,2,10)\n",
      "plt.plot(x,slope*x+intercept)\n",
      "plt.text(-0.75,6,'slope of line: %s' % (round(slope,2)))"
     ],
     "language": "python",
     "metadata": {},
     "outputs": [
      {
       "metadata": {},
       "output_type": "pyout",
       "prompt_number": 5,
       "text": [
        "<matplotlib.text.Text at 0x11155d090>"
       ]
      },
      {
       "metadata": {},
       "output_type": "display_data",
       "png": "[encoded data removed]",
       "text": [
        "<matplotlib.figure.Figure at 0x11155d0d0>"
       ]
      }
     ],
     "prompt_number": 5
    },
    {
     "cell_type": "heading",
     "level": 2,
     "metadata": {},
     "source": [
      "Temperature Luminosity Relation"
     ]
    },
    {
     "cell_type": "markdown",
     "metadata": {},
     "source": [
      "Let's make a plot of effective Temperature versus luminosity. According to the textbook the relationship should be $L \\propto T^{6}$. To mimic a Hertzsprung-Russell Diagram (more about that soon) I reversed the x-axis."
     ]
    },
    {
     "cell_type": "code",
     "collapsed": false,
     "input": [
      "plt.plot(logT,logl,'b+')\n",
      "plt.gca().invert_xaxis()\n",
      "plt.xlabel('log $T_\\mathrm{eff}$/K')\n",
      "plt.ylabel('log $L/L_\\odot$')\n",
      "slope, intercept, r_value, p_value, std_err = stats.linregress(logT,logl)\n",
      "x=np.linspace(3.4,4.8,10)\n",
      "plt.plot(x,slope*x+intercept)\n",
      "plt.text(4.2,6.0,'slope of line: %s' % (round(slope,2)))"
     ],
     "language": "python",
     "metadata": {},
     "outputs": [
      {
       "metadata": {},
       "output_type": "pyout",
       "prompt_number": 6,
       "text": [
        "<matplotlib.text.Text at 0x1116aafd0>"
       ]
      },
      {
       "metadata": {},
       "output_type": "display_data",
       "png": "[encoded data removed]",
       "text": [
        "<matplotlib.figure.Figure at 0x1116aaf50>"
       ]
      }
     ],
     "prompt_number": 6
    },
    {
     "cell_type": "heading",
     "level": 2,
     "metadata": {},
     "source": [
      "Mass Age relation"
     ]
    },
    {
     "cell_type": "markdown",
     "metadata": {},
     "source": [
      "Let's make a plot of the mass versus the time on the main sequence. According to the textbook the relationship should be $\\text{age} \\propto M^{-2}$. "
     ]
    },
    {
     "cell_type": "code",
     "collapsed": false,
     "input": [
      "plt.plot(logm,logage,'b+')\n",
      "plt.xlabel('log $M/M_\\odot$')\n",
      "plt.ylabel('log age')\n",
      "slope, intercept, r_value, p_value, std_err = stats.linregress(logm,logage)\n",
      "x=np.linspace(-1,4.5,10)\n",
      "plt.plot(x,slope*x+intercept)\n",
      "plt.text(2,8,'slope of line: %s' % (round(slope,2)))"
     ],
     "language": "python",
     "metadata": {},
     "outputs": [
      {
       "metadata": {},
       "output_type": "pyout",
       "prompt_number": 7,
       "text": [
        "<matplotlib.text.Text at 0x11182bd90>"
       ]
      },
      {
       "metadata": {},
       "output_type": "display_data",
       "png": "[encoded data removed]",
       "text": [
        "<matplotlib.figure.Figure at 0x111706410>"
       ]
      }
     ],
     "prompt_number": 7
    },
    {
     "cell_type": "heading",
     "level": 2,
     "metadata": {},
     "source": [
      "The Size of the Main Sequence Convective Core"
     ]
    },
    {
     "cell_type": "markdown",
     "metadata": {},
     "source": [
      "In class I showed a graph of the mass of the convective core (on the main sequence) as a function of the mass of the star. Our data reveal a very similar relation. On the x-axis you can see the mass of the stars (with a logarithmic axis), and on the y-axis you can see the fractional mass (which is the size/mass of the convective core divided by the mass of the star -- to normalize it across all masses)."
     ]
    },
    {
     "cell_type": "code",
     "collapsed": false,
     "input": [
      "y=top_conv/mass\n",
      "plt.plot(mass,y,'b+')\n",
      "plt.ylim(0,1)\n",
      "plt.xscale('log')\n",
      "xlabel('$M/M_\\odot$')\n",
      "ylabel('mass fraction')"
     ],
     "language": "python",
     "metadata": {},
     "outputs": [
      {
       "metadata": {},
       "output_type": "pyout",
       "prompt_number": 8,
       "text": [
        "<matplotlib.text.Text at 0x11170b390>"
       ]
      },
      {
       "metadata": {},
       "output_type": "display_data",
       "png": "[encoded data removed]",
       "text": [
        "<matplotlib.figure.Figure at 0x111555b90>"
       ]
      }
     ],
     "prompt_number": 8
    }
   ],
   "metadata": {}
  }
 ]
}