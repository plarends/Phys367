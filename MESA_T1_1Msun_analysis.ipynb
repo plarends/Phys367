{
 "metadata": {
  "name": "",
  "signature": "sha256:221d50431cf4c0cdfaba7f451ca6f0b5e195b183b852f0d35d5e1d012fcc7348"
 },
 "nbformat": 3,
 "nbformat_minor": 0,
 "worksheets": [
  {
   "cells": [
    {
     "cell_type": "heading",
     "level": 1,
     "metadata": {},
     "source": [
      "MESA / IPython Tutorial --\n"
     ]
    },
    {
     "cell_type": "markdown",
     "metadata": {},
     "source": [
      "Welcome to the IPython notebook that (hopefully) explains how to analyze the data from a MESA Model. We start by making sure that we can make plots in our notebook. You can do this by giving the command below, which will allow matlab-style plots (through the matplotlib libary). Type in this command (don't forget the %) and then press shift-enter to execute it.\n",
      "You can also do this exercise in the IPython program itself (so not the notebook). This gives you a little bit more flexibility in reading the graphs, so I almost would recommend that. If you go this route, you don't have to give the command below, but just start IPython with the command $\\texttt{mpython}$ from the command line. The rest should be all the same."
     ]
    },
    {
     "cell_type": "code",
     "collapsed": false,
     "input": [
      "%pylab inline"
     ],
     "language": "python",
     "metadata": {},
     "outputs": [
      {
       "output_type": "stream",
       "stream": "stdout",
       "text": [
        "Populating the interactive namespace from numpy and matplotlib\n"
       ]
      }
     ],
     "prompt_number": 5
    },
    {
     "cell_type": "markdown",
     "metadata": {},
     "source": [
      "Now we need to import a python script that is able to read in MESA output and analyze it (fortunately you don't have to write this script yourself). Importing a python script is easy, just type the import command (see below) and then press shift-enter to execute the command."
     ]
    },
    {
     "cell_type": "code",
     "collapsed": true,
     "input": [
      "import mesa as ms"
     ],
     "language": "python",
     "metadata": {},
     "outputs": [],
     "prompt_number": 6
    },
    {
     "cell_type": "heading",
     "level": 3,
     "metadata": {},
     "source": [
      "History Data Files"
     ]
    },
    {
     "cell_type": "markdown",
     "metadata": {},
     "source": [
      "\n",
      "Now we need to read in a model. There are two different ways that data is stored by MESA. The first one is in a file that contains the <b>history</b> of all kind of global variables (with time). So, for example the surface temperature (Teff), the luminosity, the size of the convective core, some conditions in the center (density, temperature, pressure, elemental abundances, etc.) are stored there for each model. \n",
      "\n",
      "\n"
     ]
    },
    {
     "cell_type": "code",
     "collapsed": false,
     "input": [
      "s=ms.history_data('1Msun/LOGS',clean_starlog=True)"
     ],
     "language": "python",
     "metadata": {},
     "outputs": [
      {
       "output_type": "stream",
       "stream": "stdout",
       "text": [
        "Requested new history.datasa; create new from history.data\n"
       ]
      },
      {
       "output_type": "stream",
       "stream": "stdout",
       "text": [
        "\r",
        " reading ...0%"
       ]
      },
      {
       "output_type": "stream",
       "stream": "stdout",
       "text": [
        "\r",
        " reading ...5%"
       ]
      },
      {
       "output_type": "stream",
       "stream": "stdout",
       "text": [
        "\r",
        " reading ...10%"
       ]
      },
      {
       "output_type": "stream",
       "stream": "stdout",
       "text": [
        "\r",
        " reading ...15%"
       ]
      },
      {
       "output_type": "stream",
       "stream": "stdout",
       "text": [
        "\r",
        " reading ...21%"
       ]
      },
      {
       "output_type": "stream",
       "stream": "stdout",
       "text": [
        "\r",
        " reading ...26%"
       ]
      },
      {
       "output_type": "stream",
       "stream": "stdout",
       "text": [
        "\r",
        " reading ...31%"
       ]
      },
      {
       "output_type": "stream",
       "stream": "stdout",
       "text": [
        "\r",
        " reading ...36%"
       ]
      },
      {
       "output_type": "stream",
       "stream": "stdout",
       "text": [
        "\r",
        " reading ...42%"
       ]
      },
      {
       "output_type": "stream",
       "stream": "stdout",
       "text": [
        "\r",
        " reading ...47%"
       ]
      },
      {
       "output_type": "stream",
       "stream": "stdout",
       "text": [
        "\r",
        " reading ...52%"
       ]
      },
      {
       "output_type": "stream",
       "stream": "stdout",
       "text": [
        "\r",
        " reading ...57%"
       ]
      },
      {
       "output_type": "stream",
       "stream": "stdout",
       "text": [
        "\r",
        " reading ...63%"
       ]
      },
      {
       "output_type": "stream",
       "stream": "stdout",
       "text": [
        "\r",
        " reading ...68%"
       ]
      },
      {
       "output_type": "stream",
       "stream": "stdout",
       "text": [
        "\r",
        " reading ...73%"
       ]
      },
      {
       "output_type": "stream",
       "stream": "stdout",
       "text": [
        "\r",
        " reading ...78%"
       ]
      },
      {
       "output_type": "stream",
       "stream": "stdout",
       "text": [
        "\r",
        " reading ...84%"
       ]
      },
      {
       "output_type": "stream",
       "stream": "stdout",
       "text": [
        "\r",
        " reading ...89%"
       ]
      },
      {
       "output_type": "stream",
       "stream": "stdout",
       "text": [
        "\r",
        " reading ...94%\n",
        "\n"
       ]
      }
     ],
     "prompt_number": 7
    },
    {
     "cell_type": "markdown",
     "metadata": {},
     "source": [
      "To get a quick overview of what is going on in a model we will often make a so-called Kippenhahn plot (also called a convection plot). It shows the areas in the star where convection takes place, and (if configured correctly) also where burning takes place. To show a Kippenhahn plot give the command below, followed by shift-enter."
     ]
    },
    {
     "cell_type": "code",
     "collapsed": false,
     "input": [
      "s.kip_cont()"
     ],
     "language": "python",
     "metadata": {},
     "outputs": [
      {
       "output_type": "stream",
       "stream": "stdout",
       "text": [
        "\r",
        "creating color map1 ...0%"
       ]
      },
      {
       "output_type": "stream",
       "stream": "stdout",
       "text": [
        "\r",
        "creating color map1 ...5%"
       ]
      },
      {
       "output_type": "stream",
       "stream": "stdout",
       "text": [
        "\r",
        "creating color map1 ...11%"
       ]
      },
      {
       "output_type": "stream",
       "stream": "stdout",
       "text": [
        "\r",
        "creating color map1 ...16%"
       ]
      },
      {
       "output_type": "stream",
       "stream": "stdout",
       "text": [
        "\r",
        "creating color map1 ...22%"
       ]
      },
      {
       "output_type": "stream",
       "stream": "stdout",
       "text": [
        "\r",
        "creating color map1 ...27%"
       ]
      },
      {
       "output_type": "stream",
       "stream": "stdout",
       "text": [
        "\r",
        "creating color map1 ...33%"
       ]
      },
      {
       "output_type": "stream",
       "stream": "stdout",
       "text": [
        "\r",
        "creating color map1 ...38%"
       ]
      },
      {
       "output_type": "stream",
       "stream": "stdout",
       "text": [
        "\r",
        "creating color map1 ...44%"
       ]
      },
      {
       "output_type": "stream",
       "stream": "stdout",
       "text": [
        "\r",
        "creating color map1 ...50%"
       ]
      },
      {
       "output_type": "stream",
       "stream": "stdout",
       "text": [
        "\r",
        "creating color map1 ...55%"
       ]
      },
      {
       "output_type": "stream",
       "stream": "stdout",
       "text": [
        "\r",
        "creating color map1 ...61%"
       ]
      },
      {
       "output_type": "stream",
       "stream": "stdout",
       "text": [
        "\r",
        "creating color map1 ...66%"
       ]
      },
      {
       "output_type": "stream",
       "stream": "stdout",
       "text": [
        "\r",
        "creating color map1 ...72%"
       ]
      },
      {
       "output_type": "stream",
       "stream": "stdout",
       "text": [
        "\r",
        "creating color map1 ...77%"
       ]
      },
      {
       "output_type": "stream",
       "stream": "stdout",
       "text": [
        "\r",
        "creating color map1 ...83%"
       ]
      },
      {
       "output_type": "stream",
       "stream": "stdout",
       "text": [
        "\r",
        "creating color map1 ...88%"
       ]
      },
      {
       "output_type": "stream",
       "stream": "stdout",
       "text": [
        "\r",
        "creating color map1 ...94%"
       ]
      },
      {
       "output_type": "stream",
       "stream": "stdout",
       "text": [
        "\r",
        "creating color map2 ...0%"
       ]
      },
      {
       "output_type": "stream",
       "stream": "stdout",
       "text": [
        "\r",
        "creating color map2 ...5%"
       ]
      },
      {
       "output_type": "stream",
       "stream": "stdout",
       "text": [
        "\r",
        "creating color map2 ...11%"
       ]
      },
      {
       "output_type": "stream",
       "stream": "stdout",
       "text": [
        "\r",
        "creating color map2 ...16%"
       ]
      },
      {
       "output_type": "stream",
       "stream": "stdout",
       "text": [
        "\r",
        "creating color map2 ...22%"
       ]
      },
      {
       "output_type": "stream",
       "stream": "stdout",
       "text": [
        "\r",
        "creating color map2 ...27%"
       ]
      },
      {
       "output_type": "stream",
       "stream": "stdout",
       "text": [
        "\r",
        "creating color map2 ...33%"
       ]
      },
      {
       "output_type": "stream",
       "stream": "stdout",
       "text": [
        "\r",
        "creating color map2 ...38%"
       ]
      },
      {
       "output_type": "stream",
       "stream": "stdout",
       "text": [
        "\r",
        "creating color map2 ...44%"
       ]
      },
      {
       "output_type": "stream",
       "stream": "stdout",
       "text": [
        "\r",
        "creating color map2 ...50%"
       ]
      },
      {
       "output_type": "stream",
       "stream": "stdout",
       "text": [
        "\r",
        "creating color map2 ...55%"
       ]
      },
      {
       "output_type": "stream",
       "stream": "stdout",
       "text": [
        "\r",
        "creating color map2 ...61%"
       ]
      },
      {
       "output_type": "stream",
       "stream": "stdout",
       "text": [
        "\r",
        "creating color map2 ...66%"
       ]
      },
      {
       "output_type": "stream",
       "stream": "stdout",
       "text": [
        "\r",
        "creating color map2 ...72%"
       ]
      },
      {
       "output_type": "stream",
       "stream": "stdout",
       "text": [
        "\r",
        "creating color map2 ...77%"
       ]
      },
      {
       "output_type": "stream",
       "stream": "stdout",
       "text": [
        "\r",
        "creating color map2 ...83%"
       ]
      },
      {
       "output_type": "stream",
       "stream": "stdout",
       "text": [
        "\r",
        "creating color map2 ...88%"
       ]
      },
      {
       "output_type": "stream",
       "stream": "stdout",
       "text": [
        "\r",
        "creating color map2 ...94%engenstyle was  twozone\n",
        "mixstyle was  twozone\n",
        "\n",
        " finished preparing color map\n",
        "plot versus model number"
       ]
      },
      {
       "output_type": "stream",
       "stream": "stdout",
       "text": [
        "\n",
        "plotting contours\n",
        "plotting patches\n",
        "plotting abund boundaries\n"
       ]
      },
      {
       "metadata": {},
       "output_type": "display_data",
       "png": "[encoded data removed]",
       "text": [
        "<matplotlib.figure.Figure at 0x10705f310>"
       ]
      }
     ],
     "prompt_number": 9
    },
    {
     "cell_type": "markdown",
     "metadata": {},
     "source": [
      "As you can see, the model needed only 80 timestep to complete the main sequence. The grey shaded areas are zones with convection, the blue shaded areas are zones with radiative energy transport. A 1 solar mass model, being just on the border between having an inner or outer convection zone has both!"
     ]
    },
    {
     "cell_type": "heading",
     "level": 3,
     "metadata": {},
     "source": [
      "MESA Profile Files"
     ]
    },
    {
     "cell_type": "markdown",
     "metadata": {},
     "source": [
      "The second type of data files that MESA produces are Profile files. As the name already says, they contain a profile of a star at a certain moment in time. For every gridpoint many different variables are saved and are accesible for analysis. To read in a profile file give the following command followed by shift-enter. (The 1 at the end of the command indicates that we will read the first profile in from the data files... there are many more -> just have a look in the profiles.index file in the LOGS directory)."
     ]
    },
    {
     "cell_type": "code",
     "collapsed": false,
     "input": [
      "a=ms.mesa_profile('LOGS',1)"
     ],
     "language": "python",
     "metadata": {},
     "outputs": []
    },
    {
     "cell_type": "markdown",
     "metadata": {},
     "source": [
      "To see what is stored in the profile data give the following command:"
     ]
    },
    {
     "cell_type": "code",
     "collapsed": false,
     "input": [
      "a.cols"
     ],
     "language": "python",
     "metadata": {},
     "outputs": [
      {
       "metadata": {},
       "output_type": "pyout",
       "prompt_number": 6,
       "text": [
        "{'abar': 36,\n",
        " 'burn_ar': 80,\n",
        " 'burn_c': 72,\n",
        " 'burn_ca': 81,\n",
        " 'burn_cr': 83,\n",
        " 'burn_fe': 84,\n",
        " 'burn_mg': 77,\n",
        " 'burn_n': 73,\n",
        " 'burn_na': 76,\n",
        " 'burn_ne': 75,\n",
        " 'burn_o': 74,\n",
        " 'burn_s': 79,\n",
        " 'burn_si': 78,\n",
        " 'burn_ti': 82,\n",
        " 'c12': 64,\n",
        " 'c12_c12': 85,\n",
        " 'c12_o16': 86,\n",
        " 'cno': 70,\n",
        " 'conv_vel_div_csound': 50,\n",
        " 'csound': 15,\n",
        " 'd_lnepsnuc_dlnT': 42,\n",
        " 'd_lnepsnuc_dlnd': 41,\n",
        " 'dq_ratio': 20,\n",
        " 'entropy': 13,\n",
        " 'eps_grav': 7,\n",
        " 'eps_nuc': 39,\n",
        " 'eta': 17,\n",
        " 'free_e': 32,\n",
        " 'gradT': 53,\n",
        " 'gradT_sub_grada': 46,\n",
        " 'grada': 31,\n",
        " 'gradr': 54,\n",
        " 'h1': 61,\n",
        " 'he3': 62,\n",
        " 'he4': 63,\n",
        " 'logP': 4,\n",
        " 'logPgas': 30,\n",
        " 'logR': 5,\n",
        " 'logRho': 3,\n",
        " 'logT': 2,\n",
        " 'log_D_mix': 48,\n",
        " 'log_abs_eps_grav_dm_div_L': 8,\n",
        " 'log_abs_eps_nuc': 40,\n",
        " 'log_conv_vel': 49,\n",
        " 'log_mlt_D_mix': 51,\n",
        " 'log_mlt_Gamma': 47,\n",
        " 'log_opacity': 38,\n",
        " 'log_q': 22,\n",
        " 'logdq': 19,\n",
        " 'logtau': 27,\n",
        " 'logxm': 57,\n",
        " 'logxq': 56,\n",
        " 'luminosity': 6,\n",
        " 'mass': 55,\n",
        " 'mg24': 68,\n",
        " 'mixing_type': 14,\n",
        " 'mlt_mixing_length': 44,\n",
        " 'mlt_mixing_type': 45,\n",
        " 'mu': 18,\n",
        " 'n14': 65,\n",
        " 'ne20': 67,\n",
        " 'net_energy': 10,\n",
        " 'non_nuc_neu': 43,\n",
        " 'o16': 66,\n",
        " 'o16_o16': 87,\n",
        " 'other': 90,\n",
        " 'pgas_div_ptotal': 29,\n",
        " 'photo': 89,\n",
        " 'pnhe4': 88,\n",
        " 'pp': 69,\n",
        " 'pressure': 28,\n",
        " 'pressure_scale_height': 52,\n",
        " 'q': 21,\n",
        " 'radius': 23,\n",
        " 'rmid': 24,\n",
        " 'signed_log_eps_grav': 9,\n",
        " 'signed_log_power': 11,\n",
        " 'tau': 26,\n",
        " 'temperature': 25,\n",
        " 'tri_alfa': 71,\n",
        " 'v_div_csound': 16,\n",
        " 'velocity': 12,\n",
        " 'x': 58,\n",
        " 'x_mass_fraction_H': 33,\n",
        " 'y': 59,\n",
        " 'y_mass_fraction_He': 34,\n",
        " 'ye': 37,\n",
        " 'z': 60,\n",
        " 'z_mass_fraction_metals': 35,\n",
        " 'zone': 1}"
       ]
      }
     ],
     "prompt_number": 6
    },
    {
     "cell_type": "markdown",
     "metadata": {},
     "source": [
      "For this tutorial we are interested to determine more accurately the position of the convective boundary. As discussed in class, convection happens when the actual temperature gradient $\\nabla_r$ is greater (or equal) to the adiabative temperature gradient $\\nabla_{ad}$. Fortunately MESA puts these gradients in the profile file, and we can read them in by giving the commands below."
     ]
    },
    {
     "cell_type": "code",
     "collapsed": true,
     "input": [
      "gradT=a.get('gradT')\n",
      "grada=a.get('grada')\n",
      "gradr=a.get('gradr')"
     ],
     "language": "python",
     "metadata": {},
     "outputs": [],
     "prompt_number": 7
    },
    {
     "cell_type": "markdown",
     "metadata": {},
     "source": [
      "We also need to read in the radial mass coordinate $M_r$ so that we can plot where we are in the star. Do that by giving the command below:"
     ]
    },
    {
     "cell_type": "code",
     "collapsed": true,
     "input": [
      "mass=a.get('mass')"
     ],
     "language": "python",
     "metadata": {},
     "outputs": [],
     "prompt_number": 8
    },
    {
     "cell_type": "markdown",
     "metadata": {},
     "source": [
      "Now we are ready to plot the temperature profiles of the star. First the mass against the actual temperature gradient $\\nabla_T$ and then the mass against the adiabatic temperature gradient $\\nabla_{ad}$. The result is shown below."
     ]
    },
    {
     "cell_type": "code",
     "collapsed": false,
     "input": [
      "plot(mass,gradT)\n",
      "plot(mass,grada)"
     ],
     "language": "python",
     "metadata": {},
     "outputs": [
      {
       "metadata": {},
       "output_type": "pyout",
       "prompt_number": 9,
       "text": [
        "[<matplotlib.lines.Line2D at 0x3cc6790>]"
       ]
      },
      {
       "metadata": {},
       "output_type": "display_data",
       "png": "[encoded data removed]"
      }
     ],
     "prompt_number": 9
    },
    {
     "cell_type": "markdown",
     "metadata": {},
     "source": [
      "As you can see the actual temperature gradient $\\nabla_T$ drops below the adiabatic temperature gradient $\\nabla_{ad}$ between 0.07 $M_{\\odot}$ and 0.97 $M_{\\odot}$. This is exactly where the star is radiative according to the Kippenhahn plot above."
     ]
    },
    {
     "cell_type": "code",
     "collapsed": false,
     "input": [
      "plot(mass,gradT)\n",
      "plot(mass,gradr)"
     ],
     "language": "python",
     "metadata": {},
     "outputs": [
      {
       "metadata": {},
       "output_type": "pyout",
       "prompt_number": 10,
       "text": [
        "[<matplotlib.lines.Line2D at 0x3cc3150>]"
       ]
      },
      {
       "metadata": {},
       "output_type": "display_data",
       "png": "[encoded data removed]"
      }
     ],
     "prompt_number": 10
    },
    {
     "cell_type": "markdown",
     "metadata": {},
     "source": [
      "You can also plot the radiative temperature gradient $\\nabla_{rad}$ but this one has really high values, so it is difficult to compare it with the actual temperature gradient."
     ]
    },
    {
     "cell_type": "code",
     "collapsed": true,
     "input": [],
     "language": "python",
     "metadata": {},
     "outputs": []
    }
   ],
   "metadata": {}
  }
 ]
}